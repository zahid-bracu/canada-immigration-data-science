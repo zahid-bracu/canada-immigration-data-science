{
  "nbformat": 4,
  "nbformat_minor": 0,
  "metadata": {
    "colab": {
      "name": "data-science-python-final-assignment-md-zahidur-rahman.ipynb",
      "provenance": [],
      "authorship_tag": "ABX9TyN8r5E90+1rj+bBhvXvwsAb",
      "include_colab_link": true
    },
    "kernelspec": {
      "name": "python3",
      "display_name": "Python 3"
    },
    "language_info": {
      "name": "python"
    }
  },
  "cells": [
    {
      "cell_type": "markdown",
      "metadata": {
        "id": "view-in-github",
        "colab_type": "text"
      },
      "source": [
        "<a href=\"https://colab.research.google.com/github/zahid-bracu/canada-immigration-data-science/blob/main/data_science_python_final_assignment_md_zahidur_rahman.ipynb\" target=\"_parent\"><img src=\"https://colab.research.google.com/assets/colab-badge.svg\" alt=\"Open In Colab\"/></a>"
      ]
    },
    {
      "cell_type": "code",
      "metadata": {
        "id": "rZfwbMFDoCpR"
      },
      "source": [
        "#importing the pandas library\n",
        "import pandas as pd"
      ],
      "execution_count": 2,
      "outputs": []
    },
    {
      "cell_type": "code",
      "metadata": {
        "colab": {
          "resources": {
            "http://localhost:8080/nbextensions/google.colab/files.js": {
              "data": "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",
              "ok": true,
              "headers": [
                [
                  "content-type",
                  "application/javascript"
                ]
              ],
              "status": 200,
              "status_text": ""
            }
          },
          "base_uri": "https://localhost:8080/",
          "height": 73
        },
        "id": "mFOLY0iYmzL8",
        "outputId": "985f81f4-19eb-40c5-8ec8-759c815ef40b"
      },
      "source": [
        "#loading the CSV files into Google Co\n",
        "from google.colab import files\n",
        "uploaded = files.upload()"
      ],
      "execution_count": 3,
      "outputs": [
        {
          "output_type": "display_data",
          "data": {
            "text/html": [
              "\n",
              "     <input type=\"file\" id=\"files-48b117c8-c820-4162-88c0-f8838762b511\" name=\"files[]\" multiple disabled\n",
              "        style=\"border:none\" />\n",
              "     <output id=\"result-48b117c8-c820-4162-88c0-f8838762b511\">\n",
              "      Upload widget is only available when the cell has been executed in the\n",
              "      current browser session. Please rerun this cell to enable.\n",
              "      </output>\n",
              "      <script src=\"/nbextensions/google.colab/files.js\"></script> "
            ],
            "text/plain": [
              "<IPython.core.display.HTML object>"
            ]
          },
          "metadata": {}
        },
        {
          "output_type": "stream",
          "name": "stdout",
          "text": [
            "Saving canada.csv to canada.csv\n"
          ]
        }
      ]
    },
    {
      "cell_type": "code",
      "metadata": {
        "id": "1H1uxecLoJfx"
      },
      "source": [
        "#read the csv file in dataframe\n",
        "path='/content/canada.csv'\n",
        "df = pd.read_csv(path)\n",
        "\n",
        "\n"
      ],
      "execution_count": 4,
      "outputs": []
    },
    {
      "cell_type": "code",
      "metadata": {
        "colab": {
          "base_uri": "https://localhost:8080/"
        },
        "id": "mrQsGI8YqFWR",
        "outputId": "7a79bc00-48ae-40ee-d2b4-7db22ff46f16"
      },
      "source": [
        "#finding the shape of the dataframe\n",
        "df.shape"
      ],
      "execution_count": 5,
      "outputs": [
        {
          "output_type": "execute_result",
          "data": {
            "text/plain": [
              "(197, 43)"
            ]
          },
          "metadata": {},
          "execution_count": 5
        }
      ]
    },
    {
      "cell_type": "code",
      "metadata": {
        "colab": {
          "base_uri": "https://localhost:8080/",
          "height": 313
        },
        "id": "VVId8Hq8ucky",
        "outputId": "c9351f92-9cd3-4d17-d498-3c61d2917a37"
      },
      "source": [
        "df.head(5)\n"
      ],
      "execution_count": 6,
      "outputs": [
        {
          "output_type": "execute_result",
          "data": {
            "text/html": [
              "<div>\n",
              "<style scoped>\n",
              "    .dataframe tbody tr th:only-of-type {\n",
              "        vertical-align: middle;\n",
              "    }\n",
              "\n",
              "    .dataframe tbody tr th {\n",
              "        vertical-align: top;\n",
              "    }\n",
              "\n",
              "    .dataframe thead th {\n",
              "        text-align: right;\n",
              "    }\n",
              "</style>\n",
              "<table border=\"1\" class=\"dataframe\">\n",
              "  <thead>\n",
              "    <tr style=\"text-align: right;\">\n",
              "      <th></th>\n",
              "      <th>Type</th>\n",
              "      <th>Coverage</th>\n",
              "      <th>OdName</th>\n",
              "      <th>AREA</th>\n",
              "      <th>AreaName</th>\n",
              "      <th>REG</th>\n",
              "      <th>RegName</th>\n",
              "      <th>DEV</th>\n",
              "      <th>DevName</th>\n",
              "      <th>1980</th>\n",
              "      <th>1981</th>\n",
              "      <th>1982</th>\n",
              "      <th>1983</th>\n",
              "      <th>1984</th>\n",
              "      <th>1985</th>\n",
              "      <th>1986</th>\n",
              "      <th>1987</th>\n",
              "      <th>1988</th>\n",
              "      <th>1989</th>\n",
              "      <th>1990</th>\n",
              "      <th>1991</th>\n",
              "      <th>1992</th>\n",
              "      <th>1993</th>\n",
              "      <th>1994</th>\n",
              "      <th>1995</th>\n",
              "      <th>1996</th>\n",
              "      <th>1997</th>\n",
              "      <th>1998</th>\n",
              "      <th>1999</th>\n",
              "      <th>2000</th>\n",
              "      <th>2001</th>\n",
              "      <th>2002</th>\n",
              "      <th>2003</th>\n",
              "      <th>2004</th>\n",
              "      <th>2005</th>\n",
              "      <th>2006</th>\n",
              "      <th>2007</th>\n",
              "      <th>2008</th>\n",
              "      <th>2009</th>\n",
              "      <th>2010</th>\n",
              "      <th>2011</th>\n",
              "      <th>2012</th>\n",
              "      <th>2013</th>\n",
              "    </tr>\n",
              "  </thead>\n",
              "  <tbody>\n",
              "    <tr>\n",
              "      <th>0</th>\n",
              "      <td>Immigrants</td>\n",
              "      <td>Foreigners</td>\n",
              "      <td>Afghanistan</td>\n",
              "      <td>935</td>\n",
              "      <td>Asia</td>\n",
              "      <td>5501</td>\n",
              "      <td>Southern Asia</td>\n",
              "      <td>902</td>\n",
              "      <td>Developing regions</td>\n",
              "      <td>16</td>\n",
              "      <td>39</td>\n",
              "      <td>39</td>\n",
              "      <td>47</td>\n",
              "      <td>71</td>\n",
              "      <td>340</td>\n",
              "      <td>496</td>\n",
              "      <td>741</td>\n",
              "      <td>828</td>\n",
              "      <td>1076</td>\n",
              "      <td>1028</td>\n",
              "      <td>1378</td>\n",
              "      <td>1170</td>\n",
              "      <td>713</td>\n",
              "      <td>858</td>\n",
              "      <td>1537</td>\n",
              "      <td>2212</td>\n",
              "      <td>2555</td>\n",
              "      <td>1999</td>\n",
              "      <td>2395</td>\n",
              "      <td>3326</td>\n",
              "      <td>4067</td>\n",
              "      <td>3697</td>\n",
              "      <td>3479</td>\n",
              "      <td>2978</td>\n",
              "      <td>3436</td>\n",
              "      <td>3009</td>\n",
              "      <td>2652</td>\n",
              "      <td>2111</td>\n",
              "      <td>1746</td>\n",
              "      <td>1758</td>\n",
              "      <td>2203</td>\n",
              "      <td>2635</td>\n",
              "      <td>2004</td>\n",
              "    </tr>\n",
              "    <tr>\n",
              "      <th>1</th>\n",
              "      <td>Immigrants</td>\n",
              "      <td>Foreigners</td>\n",
              "      <td>Albania</td>\n",
              "      <td>908</td>\n",
              "      <td>Europe</td>\n",
              "      <td>925</td>\n",
              "      <td>Southern Europe</td>\n",
              "      <td>901</td>\n",
              "      <td>Developed regions</td>\n",
              "      <td>1</td>\n",
              "      <td>0</td>\n",
              "      <td>0</td>\n",
              "      <td>0</td>\n",
              "      <td>0</td>\n",
              "      <td>0</td>\n",
              "      <td>1</td>\n",
              "      <td>2</td>\n",
              "      <td>2</td>\n",
              "      <td>3</td>\n",
              "      <td>3</td>\n",
              "      <td>21</td>\n",
              "      <td>56</td>\n",
              "      <td>96</td>\n",
              "      <td>71</td>\n",
              "      <td>63</td>\n",
              "      <td>113</td>\n",
              "      <td>307</td>\n",
              "      <td>574</td>\n",
              "      <td>1264</td>\n",
              "      <td>1816</td>\n",
              "      <td>1602</td>\n",
              "      <td>1021</td>\n",
              "      <td>853</td>\n",
              "      <td>1450</td>\n",
              "      <td>1223</td>\n",
              "      <td>856</td>\n",
              "      <td>702</td>\n",
              "      <td>560</td>\n",
              "      <td>716</td>\n",
              "      <td>561</td>\n",
              "      <td>539</td>\n",
              "      <td>620</td>\n",
              "      <td>603</td>\n",
              "    </tr>\n",
              "    <tr>\n",
              "      <th>2</th>\n",
              "      <td>Immigrants</td>\n",
              "      <td>Foreigners</td>\n",
              "      <td>Algeria</td>\n",
              "      <td>903</td>\n",
              "      <td>Africa</td>\n",
              "      <td>912</td>\n",
              "      <td>Northern Africa</td>\n",
              "      <td>902</td>\n",
              "      <td>Developing regions</td>\n",
              "      <td>80</td>\n",
              "      <td>67</td>\n",
              "      <td>71</td>\n",
              "      <td>69</td>\n",
              "      <td>63</td>\n",
              "      <td>44</td>\n",
              "      <td>69</td>\n",
              "      <td>132</td>\n",
              "      <td>242</td>\n",
              "      <td>434</td>\n",
              "      <td>491</td>\n",
              "      <td>872</td>\n",
              "      <td>795</td>\n",
              "      <td>717</td>\n",
              "      <td>595</td>\n",
              "      <td>1106</td>\n",
              "      <td>2054</td>\n",
              "      <td>1842</td>\n",
              "      <td>2292</td>\n",
              "      <td>2389</td>\n",
              "      <td>2867</td>\n",
              "      <td>3418</td>\n",
              "      <td>3406</td>\n",
              "      <td>3072</td>\n",
              "      <td>3616</td>\n",
              "      <td>3626</td>\n",
              "      <td>4807</td>\n",
              "      <td>3623</td>\n",
              "      <td>4005</td>\n",
              "      <td>5393</td>\n",
              "      <td>4752</td>\n",
              "      <td>4325</td>\n",
              "      <td>3774</td>\n",
              "      <td>4331</td>\n",
              "    </tr>\n",
              "    <tr>\n",
              "      <th>3</th>\n",
              "      <td>Immigrants</td>\n",
              "      <td>Foreigners</td>\n",
              "      <td>American Samoa</td>\n",
              "      <td>909</td>\n",
              "      <td>Oceania</td>\n",
              "      <td>957</td>\n",
              "      <td>Polynesia</td>\n",
              "      <td>902</td>\n",
              "      <td>Developing regions</td>\n",
              "      <td>0</td>\n",
              "      <td>1</td>\n",
              "      <td>0</td>\n",
              "      <td>0</td>\n",
              "      <td>0</td>\n",
              "      <td>0</td>\n",
              "      <td>0</td>\n",
              "      <td>1</td>\n",
              "      <td>0</td>\n",
              "      <td>1</td>\n",
              "      <td>2</td>\n",
              "      <td>0</td>\n",
              "      <td>0</td>\n",
              "      <td>0</td>\n",
              "      <td>0</td>\n",
              "      <td>0</td>\n",
              "      <td>0</td>\n",
              "      <td>0</td>\n",
              "      <td>0</td>\n",
              "      <td>0</td>\n",
              "      <td>0</td>\n",
              "      <td>0</td>\n",
              "      <td>0</td>\n",
              "      <td>0</td>\n",
              "      <td>0</td>\n",
              "      <td>0</td>\n",
              "      <td>1</td>\n",
              "      <td>0</td>\n",
              "      <td>0</td>\n",
              "      <td>0</td>\n",
              "      <td>0</td>\n",
              "      <td>0</td>\n",
              "      <td>0</td>\n",
              "      <td>0</td>\n",
              "    </tr>\n",
              "    <tr>\n",
              "      <th>4</th>\n",
              "      <td>Immigrants</td>\n",
              "      <td>Foreigners</td>\n",
              "      <td>Andorra</td>\n",
              "      <td>908</td>\n",
              "      <td>Europe</td>\n",
              "      <td>925</td>\n",
              "      <td>Southern Europe</td>\n",
              "      <td>901</td>\n",
              "      <td>Developed regions</td>\n",
              "      <td>0</td>\n",
              "      <td>0</td>\n",
              "      <td>0</td>\n",
              "      <td>0</td>\n",
              "      <td>0</td>\n",
              "      <td>0</td>\n",
              "      <td>2</td>\n",
              "      <td>0</td>\n",
              "      <td>0</td>\n",
              "      <td>0</td>\n",
              "      <td>3</td>\n",
              "      <td>0</td>\n",
              "      <td>1</td>\n",
              "      <td>0</td>\n",
              "      <td>0</td>\n",
              "      <td>0</td>\n",
              "      <td>0</td>\n",
              "      <td>0</td>\n",
              "      <td>2</td>\n",
              "      <td>0</td>\n",
              "      <td>0</td>\n",
              "      <td>1</td>\n",
              "      <td>0</td>\n",
              "      <td>2</td>\n",
              "      <td>0</td>\n",
              "      <td>0</td>\n",
              "      <td>1</td>\n",
              "      <td>1</td>\n",
              "      <td>0</td>\n",
              "      <td>0</td>\n",
              "      <td>0</td>\n",
              "      <td>0</td>\n",
              "      <td>1</td>\n",
              "      <td>1</td>\n",
              "    </tr>\n",
              "  </tbody>\n",
              "</table>\n",
              "</div>"
            ],
            "text/plain": [
              "         Type    Coverage          OdName  AREA  ...  2010  2011  2012  2013\n",
              "0  Immigrants  Foreigners     Afghanistan   935  ...  1758  2203  2635  2004\n",
              "1  Immigrants  Foreigners         Albania   908  ...   561   539   620   603\n",
              "2  Immigrants  Foreigners         Algeria   903  ...  4752  4325  3774  4331\n",
              "3  Immigrants  Foreigners  American Samoa   909  ...     0     0     0     0\n",
              "4  Immigrants  Foreigners         Andorra   908  ...     0     0     1     1\n",
              "\n",
              "[5 rows x 43 columns]"
            ]
          },
          "metadata": {},
          "execution_count": 6
        }
      ]
    },
    {
      "cell_type": "code",
      "metadata": {
        "id": "djPXNonOwab5",
        "colab": {
          "base_uri": "https://localhost:8080/"
        },
        "outputId": "b79aac72-663a-42d9-fa8c-9ad15cfec96d"
      },
      "source": [
        " df.dtypes"
      ],
      "execution_count": 7,
      "outputs": [
        {
          "output_type": "execute_result",
          "data": {
            "text/plain": [
              "Type        object\n",
              "Coverage    object\n",
              "OdName      object\n",
              "AREA         int64\n",
              "AreaName    object\n",
              "REG          int64\n",
              "RegName     object\n",
              "DEV          int64\n",
              "DevName     object\n",
              "1980         int64\n",
              "1981         int64\n",
              "1982         int64\n",
              "1983         int64\n",
              "1984         int64\n",
              "1985         int64\n",
              "1986         int64\n",
              "1987         int64\n",
              "1988         int64\n",
              "1989         int64\n",
              "1990         int64\n",
              "1991         int64\n",
              "1992         int64\n",
              "1993         int64\n",
              "1994         int64\n",
              "1995         int64\n",
              "1996         int64\n",
              "1997         int64\n",
              "1998         int64\n",
              "1999         int64\n",
              "2000         int64\n",
              "2001         int64\n",
              "2002         int64\n",
              "2003         int64\n",
              "2004         int64\n",
              "2005         int64\n",
              "2006         int64\n",
              "2007         int64\n",
              "2008         int64\n",
              "2009         int64\n",
              "2010         int64\n",
              "2011         int64\n",
              "2012         int64\n",
              "2013         int64\n",
              "dtype: object"
            ]
          },
          "metadata": {},
          "execution_count": 7
        }
      ]
    },
    {
      "cell_type": "code",
      "metadata": {
        "colab": {
          "base_uri": "https://localhost:8080/"
        },
        "id": "d4JIU9AMr8Yq",
        "outputId": "2bdbba44-c5fb-43ed-be38-bef96bbf5c47"
      },
      "source": [
        "df.columns"
      ],
      "execution_count": 8,
      "outputs": [
        {
          "output_type": "execute_result",
          "data": {
            "text/plain": [
              "Index(['Type', 'Coverage', 'OdName', 'AREA', 'AreaName', 'REG', 'RegName',\n",
              "       'DEV', 'DevName', '1980', '1981', '1982', '1983', '1984', '1985',\n",
              "       '1986', '1987', '1988', '1989', '1990', '1991', '1992', '1993', '1994',\n",
              "       '1995', '1996', '1997', '1998', '1999', '2000', '2001', '2002', '2003',\n",
              "       '2004', '2005', '2006', '2007', '2008', '2009', '2010', '2011', '2012',\n",
              "       '2013'],\n",
              "      dtype='object')"
            ]
          },
          "metadata": {},
          "execution_count": 8
        }
      ]
    },
    {
      "cell_type": "code",
      "metadata": {
        "id": "CBNimPKnu07R",
        "colab": {
          "base_uri": "https://localhost:8080/"
        },
        "outputId": "8fb1582b-c425-4e54-c8bf-19923142e186"
      },
      "source": [
        " df.axes"
      ],
      "execution_count": 9,
      "outputs": [
        {
          "output_type": "execute_result",
          "data": {
            "text/plain": [
              "[RangeIndex(start=0, stop=197, step=1),\n",
              " Index(['Type', 'Coverage', 'OdName', 'AREA', 'AreaName', 'REG', 'RegName',\n",
              "        'DEV', 'DevName', '1980', '1981', '1982', '1983', '1984', '1985',\n",
              "        '1986', '1987', '1988', '1989', '1990', '1991', '1992', '1993', '1994',\n",
              "        '1995', '1996', '1997', '1998', '1999', '2000', '2001', '2002', '2003',\n",
              "        '2004', '2005', '2006', '2007', '2008', '2009', '2010', '2011', '2012',\n",
              "        '2013'],\n",
              "       dtype='object')]"
            ]
          },
          "metadata": {},
          "execution_count": 9
        }
      ]
    },
    {
      "cell_type": "code",
      "metadata": {
        "id": "dmbwB6H0v2Mj",
        "colab": {
          "base_uri": "https://localhost:8080/"
        },
        "outputId": "c2597031-8288-47fb-cd1a-bebdf8187a2b"
      },
      "source": [
        "df.ndim"
      ],
      "execution_count": 10,
      "outputs": [
        {
          "output_type": "execute_result",
          "data": {
            "text/plain": [
              "2"
            ]
          },
          "metadata": {},
          "execution_count": 10
        }
      ]
    },
    {
      "cell_type": "code",
      "metadata": {
        "colab": {
          "base_uri": "https://localhost:8080/"
        },
        "id": "G0WRlKxdt2W0",
        "outputId": "03733786-9505-4b1d-a72d-f56f85620e62"
      },
      "source": [
        "df.size"
      ],
      "execution_count": 11,
      "outputs": [
        {
          "output_type": "execute_result",
          "data": {
            "text/plain": [
              "8471"
            ]
          },
          "metadata": {},
          "execution_count": 11
        }
      ]
    },
    {
      "cell_type": "code",
      "metadata": {
        "colab": {
          "base_uri": "https://localhost:8080/"
        },
        "id": "LHQbgP3AuQGC",
        "outputId": "d923cd8c-a345-418b-ff04-5b14d3f0b52e"
      },
      "source": [
        "df.values"
      ],
      "execution_count": 12,
      "outputs": [
        {
          "output_type": "execute_result",
          "data": {
            "text/plain": [
              "array([['Immigrants', 'Foreigners', 'Afghanistan', ..., 2203, 2635, 2004],\n",
              "       ['Immigrants', 'Foreigners', 'Albania', ..., 539, 620, 603],\n",
              "       ['Immigrants', 'Foreigners', 'Algeria', ..., 4325, 3774, 4331],\n",
              "       ...,\n",
              "       ['Immigrants', 'Foreigners', 'Zimbabwe', ..., 434, 437, 407],\n",
              "       ['Immigrants', 'Foreigners', 'Unknown', ..., 2554, 1681, 1484],\n",
              "       ['Immigrants', 'Both', 'Total', ..., 248748, 257903, 259021]],\n",
              "      dtype=object)"
            ]
          },
          "metadata": {},
          "execution_count": 12
        }
      ]
    },
    {
      "cell_type": "code",
      "metadata": {
        "colab": {
          "base_uri": "https://localhost:8080/",
          "height": 320
        },
        "id": "cgugPqi2uXvJ",
        "outputId": "5a95e249-d0cb-44a9-a901-5e3300220e63"
      },
      "source": [
        "df.describe()"
      ],
      "execution_count": 13,
      "outputs": [
        {
          "output_type": "execute_result",
          "data": {
            "text/html": [
              "<div>\n",
              "<style scoped>\n",
              "    .dataframe tbody tr th:only-of-type {\n",
              "        vertical-align: middle;\n",
              "    }\n",
              "\n",
              "    .dataframe tbody tr th {\n",
              "        vertical-align: top;\n",
              "    }\n",
              "\n",
              "    .dataframe thead th {\n",
              "        text-align: right;\n",
              "    }\n",
              "</style>\n",
              "<table border=\"1\" class=\"dataframe\">\n",
              "  <thead>\n",
              "    <tr style=\"text-align: right;\">\n",
              "      <th></th>\n",
              "      <th>AREA</th>\n",
              "      <th>REG</th>\n",
              "      <th>DEV</th>\n",
              "      <th>1980</th>\n",
              "      <th>1981</th>\n",
              "      <th>1982</th>\n",
              "      <th>1983</th>\n",
              "      <th>1984</th>\n",
              "      <th>1985</th>\n",
              "      <th>1986</th>\n",
              "      <th>1987</th>\n",
              "      <th>1988</th>\n",
              "      <th>1989</th>\n",
              "      <th>1990</th>\n",
              "      <th>1991</th>\n",
              "      <th>1992</th>\n",
              "      <th>1993</th>\n",
              "      <th>1994</th>\n",
              "      <th>1995</th>\n",
              "      <th>1996</th>\n",
              "      <th>1997</th>\n",
              "      <th>1998</th>\n",
              "      <th>1999</th>\n",
              "      <th>2000</th>\n",
              "      <th>2001</th>\n",
              "      <th>2002</th>\n",
              "      <th>2003</th>\n",
              "      <th>2004</th>\n",
              "      <th>2005</th>\n",
              "      <th>2006</th>\n",
              "      <th>2007</th>\n",
              "      <th>2008</th>\n",
              "      <th>2009</th>\n",
              "      <th>2010</th>\n",
              "      <th>2011</th>\n",
              "      <th>2012</th>\n",
              "      <th>2013</th>\n",
              "    </tr>\n",
              "  </thead>\n",
              "  <tbody>\n",
              "    <tr>\n",
              "      <th>count</th>\n",
              "      <td>197.000000</td>\n",
              "      <td>197.000000</td>\n",
              "      <td>197.000000</td>\n",
              "      <td>197.000000</td>\n",
              "      <td>197.000000</td>\n",
              "      <td>197.000000</td>\n",
              "      <td>197.000000</td>\n",
              "      <td>197.000000</td>\n",
              "      <td>197.000000</td>\n",
              "      <td>197.000000</td>\n",
              "      <td>197.000000</td>\n",
              "      <td>197.000000</td>\n",
              "      <td>197.000000</td>\n",
              "      <td>197.000000</td>\n",
              "      <td>197.000000</td>\n",
              "      <td>197.000000</td>\n",
              "      <td>197.000000</td>\n",
              "      <td>197.000000</td>\n",
              "      <td>197.000000</td>\n",
              "      <td>197.000000</td>\n",
              "      <td>197.000000</td>\n",
              "      <td>197.000000</td>\n",
              "      <td>197.000000</td>\n",
              "      <td>197.000000</td>\n",
              "      <td>197.000000</td>\n",
              "      <td>197.000000</td>\n",
              "      <td>197.000000</td>\n",
              "      <td>197.000000</td>\n",
              "      <td>197.00000</td>\n",
              "      <td>197.000000</td>\n",
              "      <td>197.000000</td>\n",
              "      <td>197.000000</td>\n",
              "      <td>197.000000</td>\n",
              "      <td>197.000000</td>\n",
              "      <td>197.000000</td>\n",
              "      <td>197.000000</td>\n",
              "      <td>197.000000</td>\n",
              "    </tr>\n",
              "    <tr>\n",
              "      <th>mean</th>\n",
              "      <td>913.639594</td>\n",
              "      <td>1246.477157</td>\n",
              "      <td>902.741117</td>\n",
              "      <td>1453.167513</td>\n",
              "      <td>1306.000000</td>\n",
              "      <td>1230.203046</td>\n",
              "      <td>905.431472</td>\n",
              "      <td>896.162437</td>\n",
              "      <td>856.304569</td>\n",
              "      <td>1008.639594</td>\n",
              "      <td>1543.908629</td>\n",
              "      <td>1640.456853</td>\n",
              "      <td>1944.670051</td>\n",
              "      <td>2197.472081</td>\n",
              "      <td>2363.472081</td>\n",
              "      <td>2586.670051</td>\n",
              "      <td>2605.461929</td>\n",
              "      <td>2277.989848</td>\n",
              "      <td>2161.055838</td>\n",
              "      <td>2295.137056</td>\n",
              "      <td>2193.258883</td>\n",
              "      <td>1768.477157</td>\n",
              "      <td>1928.426396</td>\n",
              "      <td>2309.187817</td>\n",
              "      <td>2544.527919</td>\n",
              "      <td>2325.370558</td>\n",
              "      <td>2247.197970</td>\n",
              "      <td>2394.131980</td>\n",
              "      <td>2662.35533</td>\n",
              "      <td>2554.720812</td>\n",
              "      <td>2403.583756</td>\n",
              "      <td>2510.091371</td>\n",
              "      <td>2560.101523</td>\n",
              "      <td>2849.614213</td>\n",
              "      <td>2525.360406</td>\n",
              "      <td>2618.304569</td>\n",
              "      <td>2629.654822</td>\n",
              "    </tr>\n",
              "    <tr>\n",
              "      <th>std</th>\n",
              "      <td>15.637379</td>\n",
              "      <td>1179.730385</td>\n",
              "      <td>9.782793</td>\n",
              "      <td>10784.524807</td>\n",
              "      <td>9449.373841</td>\n",
              "      <td>8864.905615</td>\n",
              "      <td>6503.149859</td>\n",
              "      <td>6452.570413</td>\n",
              "      <td>6155.858422</td>\n",
              "      <td>7205.630681</td>\n",
              "      <td>11045.558746</td>\n",
              "      <td>11809.252241</td>\n",
              "      <td>13939.908653</td>\n",
              "      <td>15782.827823</td>\n",
              "      <td>16849.811930</td>\n",
              "      <td>18502.248436</td>\n",
              "      <td>18673.483903</td>\n",
              "      <td>16443.126808</td>\n",
              "      <td>15494.979608</td>\n",
              "      <td>16458.146659</td>\n",
              "      <td>15694.794243</td>\n",
              "      <td>12605.884636</td>\n",
              "      <td>13783.035012</td>\n",
              "      <td>16544.011800</td>\n",
              "      <td>18204.260603</td>\n",
              "      <td>16642.749996</td>\n",
              "      <td>16100.180202</td>\n",
              "      <td>17119.626937</td>\n",
              "      <td>19104.65330</td>\n",
              "      <td>18261.461660</td>\n",
              "      <td>17129.490442</td>\n",
              "      <td>17908.071420</td>\n",
              "      <td>18276.881231</td>\n",
              "      <td>20386.174875</td>\n",
              "      <td>18082.496369</td>\n",
              "      <td>18763.159434</td>\n",
              "      <td>18838.224387</td>\n",
              "    </tr>\n",
              "    <tr>\n",
              "      <th>min</th>\n",
              "      <td>903.000000</td>\n",
              "      <td>905.000000</td>\n",
              "      <td>901.000000</td>\n",
              "      <td>0.000000</td>\n",
              "      <td>0.000000</td>\n",
              "      <td>0.000000</td>\n",
              "      <td>0.000000</td>\n",
              "      <td>0.000000</td>\n",
              "      <td>0.000000</td>\n",
              "      <td>0.000000</td>\n",
              "      <td>0.000000</td>\n",
              "      <td>0.000000</td>\n",
              "      <td>0.000000</td>\n",
              "      <td>0.000000</td>\n",
              "      <td>0.000000</td>\n",
              "      <td>0.000000</td>\n",
              "      <td>0.000000</td>\n",
              "      <td>0.000000</td>\n",
              "      <td>0.000000</td>\n",
              "      <td>0.000000</td>\n",
              "      <td>0.000000</td>\n",
              "      <td>0.000000</td>\n",
              "      <td>0.000000</td>\n",
              "      <td>0.000000</td>\n",
              "      <td>0.000000</td>\n",
              "      <td>0.000000</td>\n",
              "      <td>0.000000</td>\n",
              "      <td>0.000000</td>\n",
              "      <td>0.00000</td>\n",
              "      <td>0.000000</td>\n",
              "      <td>0.000000</td>\n",
              "      <td>0.000000</td>\n",
              "      <td>0.000000</td>\n",
              "      <td>0.000000</td>\n",
              "      <td>0.000000</td>\n",
              "      <td>0.000000</td>\n",
              "      <td>0.000000</td>\n",
              "    </tr>\n",
              "    <tr>\n",
              "      <th>25%</th>\n",
              "      <td>903.000000</td>\n",
              "      <td>914.000000</td>\n",
              "      <td>902.000000</td>\n",
              "      <td>0.000000</td>\n",
              "      <td>0.000000</td>\n",
              "      <td>0.000000</td>\n",
              "      <td>0.000000</td>\n",
              "      <td>0.000000</td>\n",
              "      <td>0.000000</td>\n",
              "      <td>1.000000</td>\n",
              "      <td>1.000000</td>\n",
              "      <td>1.000000</td>\n",
              "      <td>1.000000</td>\n",
              "      <td>2.000000</td>\n",
              "      <td>3.000000</td>\n",
              "      <td>7.000000</td>\n",
              "      <td>12.000000</td>\n",
              "      <td>10.000000</td>\n",
              "      <td>11.000000</td>\n",
              "      <td>15.000000</td>\n",
              "      <td>22.000000</td>\n",
              "      <td>15.000000</td>\n",
              "      <td>17.000000</td>\n",
              "      <td>16.000000</td>\n",
              "      <td>22.000000</td>\n",
              "      <td>20.000000</td>\n",
              "      <td>22.000000</td>\n",
              "      <td>21.000000</td>\n",
              "      <td>29.00000</td>\n",
              "      <td>26.000000</td>\n",
              "      <td>32.000000</td>\n",
              "      <td>32.000000</td>\n",
              "      <td>37.000000</td>\n",
              "      <td>42.000000</td>\n",
              "      <td>38.000000</td>\n",
              "      <td>43.000000</td>\n",
              "      <td>45.000000</td>\n",
              "    </tr>\n",
              "    <tr>\n",
              "      <th>50%</th>\n",
              "      <td>908.000000</td>\n",
              "      <td>922.000000</td>\n",
              "      <td>902.000000</td>\n",
              "      <td>14.000000</td>\n",
              "      <td>10.000000</td>\n",
              "      <td>12.000000</td>\n",
              "      <td>12.000000</td>\n",
              "      <td>14.000000</td>\n",
              "      <td>17.000000</td>\n",
              "      <td>21.000000</td>\n",
              "      <td>33.000000</td>\n",
              "      <td>36.000000</td>\n",
              "      <td>45.000000</td>\n",
              "      <td>38.000000</td>\n",
              "      <td>59.000000</td>\n",
              "      <td>76.000000</td>\n",
              "      <td>92.000000</td>\n",
              "      <td>78.000000</td>\n",
              "      <td>100.000000</td>\n",
              "      <td>122.000000</td>\n",
              "      <td>115.000000</td>\n",
              "      <td>107.000000</td>\n",
              "      <td>117.000000</td>\n",
              "      <td>140.000000</td>\n",
              "      <td>175.000000</td>\n",
              "      <td>168.000000</td>\n",
              "      <td>165.000000</td>\n",
              "      <td>196.000000</td>\n",
              "      <td>211.00000</td>\n",
              "      <td>230.000000</td>\n",
              "      <td>198.000000</td>\n",
              "      <td>205.000000</td>\n",
              "      <td>217.000000</td>\n",
              "      <td>216.000000</td>\n",
              "      <td>196.000000</td>\n",
              "      <td>235.000000</td>\n",
              "      <td>217.000000</td>\n",
              "    </tr>\n",
              "    <tr>\n",
              "      <th>75%</th>\n",
              "      <td>935.000000</td>\n",
              "      <td>926.000000</td>\n",
              "      <td>902.000000</td>\n",
              "      <td>266.000000</td>\n",
              "      <td>299.000000</td>\n",
              "      <td>299.000000</td>\n",
              "      <td>197.000000</td>\n",
              "      <td>207.000000</td>\n",
              "      <td>202.000000</td>\n",
              "      <td>257.000000</td>\n",
              "      <td>467.000000</td>\n",
              "      <td>476.000000</td>\n",
              "      <td>538.000000</td>\n",
              "      <td>620.000000</td>\n",
              "      <td>688.000000</td>\n",
              "      <td>734.000000</td>\n",
              "      <td>761.000000</td>\n",
              "      <td>566.000000</td>\n",
              "      <td>596.000000</td>\n",
              "      <td>638.000000</td>\n",
              "      <td>623.000000</td>\n",
              "      <td>563.000000</td>\n",
              "      <td>589.000000</td>\n",
              "      <td>838.000000</td>\n",
              "      <td>801.000000</td>\n",
              "      <td>709.000000</td>\n",
              "      <td>699.000000</td>\n",
              "      <td>866.000000</td>\n",
              "      <td>857.00000</td>\n",
              "      <td>856.000000</td>\n",
              "      <td>975.000000</td>\n",
              "      <td>975.000000</td>\n",
              "      <td>917.000000</td>\n",
              "      <td>953.000000</td>\n",
              "      <td>851.000000</td>\n",
              "      <td>799.000000</td>\n",
              "      <td>852.000000</td>\n",
              "    </tr>\n",
              "    <tr>\n",
              "      <th>max</th>\n",
              "      <td>999.000000</td>\n",
              "      <td>5501.000000</td>\n",
              "      <td>999.000000</td>\n",
              "      <td>143137.000000</td>\n",
              "      <td>128641.000000</td>\n",
              "      <td>121175.000000</td>\n",
              "      <td>89185.000000</td>\n",
              "      <td>88272.000000</td>\n",
              "      <td>84346.000000</td>\n",
              "      <td>99351.000000</td>\n",
              "      <td>152075.000000</td>\n",
              "      <td>161585.000000</td>\n",
              "      <td>191550.000000</td>\n",
              "      <td>216451.000000</td>\n",
              "      <td>232802.000000</td>\n",
              "      <td>254787.000000</td>\n",
              "      <td>256638.000000</td>\n",
              "      <td>224382.000000</td>\n",
              "      <td>212864.000000</td>\n",
              "      <td>226071.000000</td>\n",
              "      <td>216036.000000</td>\n",
              "      <td>174195.000000</td>\n",
              "      <td>189950.000000</td>\n",
              "      <td>227455.000000</td>\n",
              "      <td>250636.000000</td>\n",
              "      <td>229049.000000</td>\n",
              "      <td>221349.000000</td>\n",
              "      <td>235822.000000</td>\n",
              "      <td>262242.00000</td>\n",
              "      <td>251640.000000</td>\n",
              "      <td>236753.000000</td>\n",
              "      <td>247244.000000</td>\n",
              "      <td>252170.000000</td>\n",
              "      <td>280687.000000</td>\n",
              "      <td>248748.000000</td>\n",
              "      <td>257903.000000</td>\n",
              "      <td>259021.000000</td>\n",
              "    </tr>\n",
              "  </tbody>\n",
              "</table>\n",
              "</div>"
            ],
            "text/plain": [
              "             AREA          REG  ...           2012           2013\n",
              "count  197.000000   197.000000  ...     197.000000     197.000000\n",
              "mean   913.639594  1246.477157  ...    2618.304569    2629.654822\n",
              "std     15.637379  1179.730385  ...   18763.159434   18838.224387\n",
              "min    903.000000   905.000000  ...       0.000000       0.000000\n",
              "25%    903.000000   914.000000  ...      43.000000      45.000000\n",
              "50%    908.000000   922.000000  ...     235.000000     217.000000\n",
              "75%    935.000000   926.000000  ...     799.000000     852.000000\n",
              "max    999.000000  5501.000000  ...  257903.000000  259021.000000\n",
              "\n",
              "[8 rows x 37 columns]"
            ]
          },
          "metadata": {},
          "execution_count": 13
        }
      ]
    },
    {
      "cell_type": "code",
      "metadata": {
        "colab": {
          "base_uri": "https://localhost:8080/"
        },
        "id": "WKkHqdvidJUx",
        "outputId": "5f06e896-b1a0-4c22-93e1-98612ce7184f"
      },
      "source": [
        "df.loc['Column_Total']= df.sum(numeric_only=True, axis=0)\n",
        "df.loc[:,'Row_Total'] = df.sum(numeric_only=True, axis=1)\n",
        "print(df)"
      ],
      "execution_count": 28,
      "outputs": [
        {
          "output_type": "stream",
          "name": "stdout",
          "text": [
            "                    Type    Coverage  ...       2013   Row_Total\n",
            "0             Immigrants  Foreigners  ...     2004.0    131954.0\n",
            "1             Immigrants  Foreigners  ...      603.0     36866.0\n",
            "2             Immigrants  Foreigners  ...     4331.0    144312.0\n",
            "3             Immigrants  Foreigners  ...        0.0      5548.0\n",
            "4             Immigrants  Foreigners  ...        1.0      5498.0\n",
            "...                  ...         ...  ...        ...         ...\n",
            "193           Immigrants  Foreigners  ...       59.0      8784.0\n",
            "194           Immigrants  Foreigners  ...      407.0     22626.0\n",
            "195           Immigrants  Foreigners  ...     1484.0   1036112.0\n",
            "196           Immigrants        Both  ...   259021.0  13854418.0\n",
            "Column_Total         NaN         NaN  ...  1036084.0  57807228.0\n",
            "\n",
            "[198 rows x 44 columns]\n"
          ]
        }
      ]
    },
    {
      "cell_type": "markdown",
      "metadata": {
        "id": "gaNrGBWEc1ek"
      },
      "source": [
        "#Now finding the country which have the lowest imigrant"
      ]
    },
    {
      "cell_type": "code",
      "metadata": {
        "id": "kCsbge2BJZe-",
        "colab": {
          "base_uri": "https://localhost:8080/"
        },
        "outputId": "89f91e12-1619-4d24-f8ff-05a680bfb5e1"
      },
      "source": [
        "min_row=df['Row_Total'].min()\n",
        "print(min_row)"
      ],
      "execution_count": 26,
      "outputs": [
        {
          "output_type": "stream",
          "name": "stdout",
          "text": [
            "2719.0\n"
          ]
        }
      ]
    },
    {
      "cell_type": "code",
      "metadata": {
        "colab": {
          "base_uri": "https://localhost:8080/",
          "height": 118
        },
        "id": "xtez1l1wYCiW",
        "outputId": "eb59ff5a-901e-4f45-941d-b33a50da009c"
      },
      "source": [
        "df_sub = df[ df['Row_Total'] ==min_row ]\n",
        "df_sub.head()"
      ],
      "execution_count": 27,
      "outputs": [
        {
          "output_type": "execute_result",
          "data": {
            "text/html": [
              "<div>\n",
              "<style scoped>\n",
              "    .dataframe tbody tr th:only-of-type {\n",
              "        vertical-align: middle;\n",
              "    }\n",
              "\n",
              "    .dataframe tbody tr th {\n",
              "        vertical-align: top;\n",
              "    }\n",
              "\n",
              "    .dataframe thead th {\n",
              "        text-align: right;\n",
              "    }\n",
              "</style>\n",
              "<table border=\"1\" class=\"dataframe\">\n",
              "  <thead>\n",
              "    <tr style=\"text-align: right;\">\n",
              "      <th></th>\n",
              "      <th>Type</th>\n",
              "      <th>Coverage</th>\n",
              "      <th>OdName</th>\n",
              "      <th>AREA</th>\n",
              "      <th>AreaName</th>\n",
              "      <th>REG</th>\n",
              "      <th>RegName</th>\n",
              "      <th>DEV</th>\n",
              "      <th>DevName</th>\n",
              "      <th>1980</th>\n",
              "      <th>1981</th>\n",
              "      <th>1982</th>\n",
              "      <th>1983</th>\n",
              "      <th>1984</th>\n",
              "      <th>1985</th>\n",
              "      <th>1986</th>\n",
              "      <th>1987</th>\n",
              "      <th>1988</th>\n",
              "      <th>1989</th>\n",
              "      <th>1990</th>\n",
              "      <th>1991</th>\n",
              "      <th>1992</th>\n",
              "      <th>1993</th>\n",
              "      <th>1994</th>\n",
              "      <th>1995</th>\n",
              "      <th>1996</th>\n",
              "      <th>1997</th>\n",
              "      <th>1998</th>\n",
              "      <th>1999</th>\n",
              "      <th>2000</th>\n",
              "      <th>2001</th>\n",
              "      <th>2002</th>\n",
              "      <th>2003</th>\n",
              "      <th>2004</th>\n",
              "      <th>2005</th>\n",
              "      <th>2006</th>\n",
              "      <th>2007</th>\n",
              "      <th>2008</th>\n",
              "      <th>2009</th>\n",
              "      <th>2010</th>\n",
              "      <th>2011</th>\n",
              "      <th>2012</th>\n",
              "      <th>2013</th>\n",
              "      <th>Row_Total</th>\n",
              "    </tr>\n",
              "  </thead>\n",
              "  <tbody>\n",
              "    <tr>\n",
              "      <th>191</th>\n",
              "      <td>Immigrants</td>\n",
              "      <td>Foreigners</td>\n",
              "      <td>Western Sahara</td>\n",
              "      <td>903.0</td>\n",
              "      <td>Africa</td>\n",
              "      <td>912.0</td>\n",
              "      <td>Northern Africa</td>\n",
              "      <td>902.0</td>\n",
              "      <td>Developing regions</td>\n",
              "      <td>0.0</td>\n",
              "      <td>0.0</td>\n",
              "      <td>0.0</td>\n",
              "      <td>0.0</td>\n",
              "      <td>0.0</td>\n",
              "      <td>0.0</td>\n",
              "      <td>0.0</td>\n",
              "      <td>0.0</td>\n",
              "      <td>0.0</td>\n",
              "      <td>0.0</td>\n",
              "      <td>0.0</td>\n",
              "      <td>1.0</td>\n",
              "      <td>0.0</td>\n",
              "      <td>0.0</td>\n",
              "      <td>0.0</td>\n",
              "      <td>0.0</td>\n",
              "      <td>0.0</td>\n",
              "      <td>0.0</td>\n",
              "      <td>0.0</td>\n",
              "      <td>0.0</td>\n",
              "      <td>0.0</td>\n",
              "      <td>0.0</td>\n",
              "      <td>0.0</td>\n",
              "      <td>0.0</td>\n",
              "      <td>0.0</td>\n",
              "      <td>0.0</td>\n",
              "      <td>1.0</td>\n",
              "      <td>0.0</td>\n",
              "      <td>0.0</td>\n",
              "      <td>0.0</td>\n",
              "      <td>0.0</td>\n",
              "      <td>0.0</td>\n",
              "      <td>0.0</td>\n",
              "      <td>0.0</td>\n",
              "      <td>2719.0</td>\n",
              "    </tr>\n",
              "  </tbody>\n",
              "</table>\n",
              "</div>"
            ],
            "text/plain": [
              "           Type    Coverage          OdName   AREA  ... 2011  2012 2013  Row_Total\n",
              "191  Immigrants  Foreigners  Western Sahara  903.0  ...  0.0   0.0  0.0     2719.0\n",
              "\n",
              "[1 rows x 44 columns]"
            ]
          },
          "metadata": {},
          "execution_count": 27
        }
      ]
    },
    {
      "cell_type": "code",
      "metadata": {
        "colab": {
          "base_uri": "https://localhost:8080/"
        },
        "id": "o-scAzAe3utc",
        "outputId": "f9e79728-b142-4236-b60a-950e803b6132"
      },
      "source": [
        " df_sub.OdName"
      ],
      "execution_count": 25,
      "outputs": [
        {
          "output_type": "execute_result",
          "data": {
            "text/plain": [
              "191    Western Sahara\n",
              "Name: OdName, dtype: object"
            ]
          },
          "metadata": {},
          "execution_count": 25
        }
      ]
    },
    {
      "cell_type": "code",
      "metadata": {
        "colab": {
          "base_uri": "https://localhost:8080/"
        },
        "id": "19XnsYaS44yA",
        "outputId": "4e5f287a-72d9-48fe-d9a3-96e8f8f5c4c0"
      },
      "source": [
        " df_sub.AreaName"
      ],
      "execution_count": 21,
      "outputs": [
        {
          "output_type": "execute_result",
          "data": {
            "text/plain": [
              "191    Africa\n",
              "Name: AreaName, dtype: object"
            ]
          },
          "metadata": {},
          "execution_count": 21
        }
      ]
    },
    {
      "cell_type": "code",
      "metadata": {
        "colab": {
          "base_uri": "https://localhost:8080/"
        },
        "id": "6YKzSECi5AyZ",
        "outputId": "f465b64b-b0ef-4a24-97f7-cdef162a2789"
      },
      "source": [
        "df_sub.RegName"
      ],
      "execution_count": 22,
      "outputs": [
        {
          "output_type": "execute_result",
          "data": {
            "text/plain": [
              "191    Northern Africa\n",
              "Name: RegName, dtype: object"
            ]
          },
          "metadata": {},
          "execution_count": 22
        }
      ]
    }
  ]
}